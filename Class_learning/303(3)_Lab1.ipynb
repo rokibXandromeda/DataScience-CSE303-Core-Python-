{
  "nbformat": 4,
  "nbformat_minor": 0,
  "metadata": {
    "colab": {
      "provenance": []
    },
    "kernelspec": {
      "name": "python3",
      "display_name": "Python 3"
    },
    "language_info": {
      "name": "python"
    }
  },
  "cells": [
    {
      "cell_type": "markdown",
      "source": [
        "# **This is introduction to python**"
      ],
      "metadata": {
        "id": "VnpSySNBV2lt"
      }
    },
    {
      "cell_type": "code",
      "execution_count": null,
      "metadata": {
        "id": "ARFoyldJVIQX",
        "colab": {
          "base_uri": "https://localhost:8080/"
        },
        "outputId": "615682d8-a792-42e1-b9d4-6113ab6f35f0"
      },
      "outputs": [
        {
          "output_type": "stream",
          "name": "stdout",
          "text": [
            "Hello world!\n"
          ]
        }
      ],
      "source": [
        "print(\"Hello world!\")"
      ]
    },
    {
      "cell_type": "code",
      "source": [
        "num1 = 10.0\n",
        "num2 = 5\n",
        "sum1 = num1 + num2\n",
        "print(sum1)"
      ],
      "metadata": {
        "colab": {
          "base_uri": "https://localhost:8080/"
        },
        "id": "t0-1WzvvW5LG",
        "outputId": "75b2fe68-334e-47f1-9e7e-530d02601a23"
      },
      "execution_count": null,
      "outputs": [
        {
          "output_type": "stream",
          "name": "stdout",
          "text": [
            "15.0\n"
          ]
        }
      ]
    },
    {
      "cell_type": "code",
      "source": [
        "num1 = int(input(\"Enter a number: \"))\n",
        "num2 = float(input(\"Enter another number: \"))\n",
        "sum1 = num1 + num2\n",
        "print(sum1)"
      ],
      "metadata": {
        "colab": {
          "base_uri": "https://localhost:8080/"
        },
        "id": "l-NW61ebXdel",
        "outputId": "919aabeb-96ab-4538-c7ce-2db5d2edbd4c"
      },
      "execution_count": null,
      "outputs": [
        {
          "output_type": "stream",
          "name": "stdout",
          "text": [
            "Enter a number: 5\n",
            "Enter another number: 8\n",
            "13.0\n"
          ]
        }
      ]
    },
    {
      "cell_type": "code",
      "source": [
        "print(f'The sum of {num1} and {num2} is {sum1}')"
      ],
      "metadata": {
        "colab": {
          "base_uri": "https://localhost:8080/"
        },
        "id": "q3-fJEYsZn1e",
        "outputId": "295fb932-ad5a-414c-b536-9693d12b159d"
      },
      "execution_count": null,
      "outputs": [
        {
          "output_type": "stream",
          "name": "stdout",
          "text": [
            "The sum of 5 and 8.0 is 13.0\n"
          ]
        }
      ]
    },
    {
      "cell_type": "code",
      "source": [
        "x = 10\n",
        "y = 3\n",
        "result = x//y\n",
        "print(result)"
      ],
      "metadata": {
        "colab": {
          "base_uri": "https://localhost:8080/"
        },
        "id": "S0pVmHddaq61",
        "outputId": "c97b764a-effb-4150-c57a-849c11721b43"
      },
      "execution_count": null,
      "outputs": [
        {
          "output_type": "stream",
          "name": "stdout",
          "text": [
            "3\n"
          ]
        }
      ]
    },
    {
      "cell_type": "markdown",
      "source": [
        "# **Selection statement**"
      ],
      "metadata": {
        "id": "ZBZyq3C8cEvc"
      }
    },
    {
      "cell_type": "code",
      "source": [
        "x = 9\n",
        "if x%2==0:\n",
        "  print(\"Even\")\n",
        "else:\n",
        "  print(\"Odd\")"
      ],
      "metadata": {
        "colab": {
          "base_uri": "https://localhost:8080/"
        },
        "id": "5XpGHRSNcDql",
        "outputId": "6eaf6c49-db6b-45f1-83af-349a81d64194"
      },
      "execution_count": null,
      "outputs": [
        {
          "output_type": "stream",
          "name": "stdout",
          "text": [
            "Odd\n"
          ]
        }
      ]
    },
    {
      "cell_type": "code",
      "source": [
        "x = 15\n",
        "if x%3 != 0 and x%5!=0:\n",
        "  print(f\"{x} is not divisible by 3 and 5\")\n",
        "elif x%3 == 0 and x%5!=0:\n",
        "  print(f\"{x} is only divisible by 3\")\n",
        "elif x%5 == 0 and x%3!=0:\n",
        "  print(f\"{x} is only divisible by 5\")\n",
        "else:\n",
        "  print(f\"{x} is divisible by both 3 and 5\")"
      ],
      "metadata": {
        "colab": {
          "base_uri": "https://localhost:8080/"
        },
        "id": "P2rbE_eqdMCF",
        "outputId": "5980e6df-2ff3-4143-c5c1-cac5f567b981"
      },
      "execution_count": null,
      "outputs": [
        {
          "output_type": "stream",
          "name": "stdout",
          "text": [
            "15 is divisible by both 3 and 5\n"
          ]
        }
      ]
    },
    {
      "cell_type": "code",
      "source": [
        "x = 15\n",
        "if (x%3 == 0 and x%5!=0) or (x%5 == 0 and x%3!=0):\n",
        "  print(\"Yes\")\n",
        "else:\n",
        "  print(\"No\")"
      ],
      "metadata": {
        "colab": {
          "base_uri": "https://localhost:8080/"
        },
        "id": "-4WFXM2weus9",
        "outputId": "2e1e290b-2c2d-4233-900a-c5e532d9c796"
      },
      "execution_count": null,
      "outputs": [
        {
          "output_type": "stream",
          "name": "stdout",
          "text": [
            "Yes\n"
          ]
        }
      ]
    },
    {
      "cell_type": "markdown",
      "source": [
        "# **Loop**"
      ],
      "metadata": {
        "id": "3F0t5IzKfa2c"
      }
    },
    {
      "cell_type": "code",
      "source": [
        "s = \"\"\n",
        "for i in range(20, 1, -3):\n",
        "  s = s + str(i) + \" \"\n",
        "print(s)"
      ],
      "metadata": {
        "colab": {
          "base_uri": "https://localhost:8080/"
        },
        "id": "3oAi7l_3faJm",
        "outputId": "bba68933-d5e2-4afd-b31a-6249feaa3e83"
      },
      "execution_count": null,
      "outputs": [
        {
          "output_type": "stream",
          "name": "stdout",
          "text": [
            "20 17 14 11 8 5 2 \n"
          ]
        }
      ]
    },
    {
      "cell_type": "code",
      "source": [
        "x = 20\n",
        "while x >= 2:\n",
        "  print(x)\n",
        "  x -= 3"
      ],
      "metadata": {
        "colab": {
          "base_uri": "https://localhost:8080/"
        },
        "id": "DzbjpEUDhSsp",
        "outputId": "e0ee0538-09e8-4bdc-9d7e-275f7f68a29a"
      },
      "execution_count": null,
      "outputs": [
        {
          "output_type": "stream",
          "name": "stdout",
          "text": [
            "20\n",
            "17\n",
            "14\n",
            "11\n",
            "8\n",
            "5\n",
            "2\n"
          ]
        }
      ]
    },
    {
      "cell_type": "markdown",
      "source": [
        "# **List**"
      ],
      "metadata": {
        "id": "CMDBMNHIio49"
      }
    },
    {
      "cell_type": "code",
      "source": [
        "numbers = [2, 3, 5, 6, 8, 9]\n",
        "print(numbers)\n",
        "numbers.append(13)\n",
        "print(numbers)"
      ],
      "metadata": {
        "colab": {
          "base_uri": "https://localhost:8080/"
        },
        "id": "xZjEf0XBincN",
        "outputId": "3a2ac2d6-2a07-4c65-daa4-6dbb618559e7"
      },
      "execution_count": null,
      "outputs": [
        {
          "output_type": "stream",
          "name": "stdout",
          "text": [
            "[2, 3, 5, 6, 8, 9]\n",
            "[2, 3, 5, 6, 8, 9, 13]\n"
          ]
        }
      ]
    },
    {
      "cell_type": "code",
      "source": [
        "numbers = []\n",
        "for i in range(5):\n",
        "  #x = int(input())\n",
        "  numbers.append(i)\n",
        "print(numbers)"
      ],
      "metadata": {
        "colab": {
          "base_uri": "https://localhost:8080/"
        },
        "id": "HB7QJdCojHD1",
        "outputId": "8a493543-23a5-4965-cfca-2b1af8e190d7"
      },
      "execution_count": null,
      "outputs": [
        {
          "output_type": "stream",
          "name": "stdout",
          "text": [
            "[0, 1, 2, 3, 4]\n"
          ]
        }
      ]
    },
    {
      "cell_type": "code",
      "source": [
        "numbers.append(3.5)\n",
        "print(numbers)"
      ],
      "metadata": {
        "colab": {
          "base_uri": "https://localhost:8080/"
        },
        "id": "2Ahxpkf_jqhs",
        "outputId": "371b8cf6-ab2a-4fe3-b911-7f5609e55834"
      },
      "execution_count": null,
      "outputs": [
        {
          "output_type": "stream",
          "name": "stdout",
          "text": [
            "[0, 1, 2, 3, 4, 3.5]\n"
          ]
        }
      ]
    },
    {
      "cell_type": "code",
      "source": [
        "numbers.insert(2, 39)\n",
        "print(numbers)"
      ],
      "metadata": {
        "colab": {
          "base_uri": "https://localhost:8080/"
        },
        "id": "ko9Cfy4fj0MV",
        "outputId": "d9c26598-c204-4dff-dce4-62fe1fe5a00c"
      },
      "execution_count": null,
      "outputs": [
        {
          "output_type": "stream",
          "name": "stdout",
          "text": [
            "[0, 1, 39, 2, 3, 4, 3.5]\n"
          ]
        }
      ]
    },
    {
      "cell_type": "code",
      "source": [
        "numbers.insert(len(numbers), 29)\n",
        "print(numbers)"
      ],
      "metadata": {
        "colab": {
          "base_uri": "https://localhost:8080/"
        },
        "id": "lGBwRlbEkH8M",
        "outputId": "b030c8f8-403d-4ffd-c8b1-a50af02e226c"
      },
      "execution_count": null,
      "outputs": [
        {
          "output_type": "stream",
          "name": "stdout",
          "text": [
            "[0, 1, 39, 2, 3, 4, 3.5, 29]\n"
          ]
        }
      ]
    },
    {
      "cell_type": "code",
      "source": [
        "x = numbers.pop()\n",
        "print(x)\n",
        "print(numbers)"
      ],
      "metadata": {
        "colab": {
          "base_uri": "https://localhost:8080/"
        },
        "id": "JbU93nDVkayM",
        "outputId": "260643c1-3e41-4ce8-dad3-bb1d834674c4"
      },
      "execution_count": null,
      "outputs": [
        {
          "output_type": "stream",
          "name": "stdout",
          "text": [
            "29\n",
            "[0, 1, 39, 2, 3, 4, 3.5]\n"
          ]
        }
      ]
    },
    {
      "cell_type": "code",
      "source": [
        "numbers.pop(2)\n",
        "print(numbers)"
      ],
      "metadata": {
        "colab": {
          "base_uri": "https://localhost:8080/"
        },
        "id": "l0ljn4szkwZd",
        "outputId": "7c02731e-9f04-4578-f795-6b0edb238160"
      },
      "execution_count": null,
      "outputs": [
        {
          "output_type": "stream",
          "name": "stdout",
          "text": [
            "[0, 1, 3, 4, 3.5]\n"
          ]
        }
      ]
    },
    {
      "cell_type": "code",
      "source": [
        "def factorial(n):\n",
        "  x = 1\n",
        "  for i in range(1, n+1):\n",
        "    x = x*i\n",
        "  return x"
      ],
      "metadata": {
        "id": "Va-vgi_wlUsc"
      },
      "execution_count": null,
      "outputs": []
    },
    {
      "cell_type": "code",
      "source": [
        "print(factorial(5))"
      ],
      "metadata": {
        "colab": {
          "base_uri": "https://localhost:8080/"
        },
        "id": "eh5MaGqKly01",
        "outputId": "a55f4eeb-8d35-411b-ee71-e40f44870880"
      },
      "execution_count": null,
      "outputs": [
        {
          "output_type": "stream",
          "name": "stdout",
          "text": [
            "120\n"
          ]
        }
      ]
    },
    {
      "cell_type": "code",
      "source": [
        "def fun(list):\n",
        "  list.pop();"
      ],
      "metadata": {
        "id": "4CPGjcrBmky1"
      },
      "execution_count": null,
      "outputs": []
    },
    {
      "cell_type": "code",
      "source": [
        "l = [1, 2,3 , 4]\n",
        "fun(l)\n",
        "print(l)"
      ],
      "metadata": {
        "colab": {
          "base_uri": "https://localhost:8080/"
        },
        "id": "N3ggXSGVmpsE",
        "outputId": "5b4ebd35-7d61-4294-8729-7ee2076b0afd"
      },
      "execution_count": null,
      "outputs": [
        {
          "output_type": "stream",
          "name": "stdout",
          "text": [
            "[1, 2, 3]\n"
          ]
        }
      ]
    }
  ]
}