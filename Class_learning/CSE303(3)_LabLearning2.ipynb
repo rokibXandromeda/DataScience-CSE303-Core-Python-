{
  "nbformat": 4,
  "nbformat_minor": 0,
  "metadata": {
    "colab": {
      "provenance": []
    },
    "kernelspec": {
      "name": "python3",
      "display_name": "Python 3"
    },
    "language_info": {
      "name": "python"
    }
  },
  "cells": [
    {
      "cell_type": "markdown",
      "source": [
        "**Replace, Split, Join,**"
      ],
      "metadata": {
        "id": "nW54ABwobN4l"
      }
    },
    {
      "cell_type": "code",
      "source": [
        "x= \"holyshit\"\n",
        "y = \"shit\"\n",
        "n = \" home\"\n",
        "k = x.replace(y,n)\n",
        "print(k)"
      ],
      "metadata": {
        "colab": {
          "base_uri": "https://localhost:8080/"
        },
        "id": "B8jr4xEwbOvb",
        "outputId": "0004aea0-d0e0-46ba-8b85-f65aa8261299"
      },
      "execution_count": 1,
      "outputs": [
        {
          "output_type": "stream",
          "name": "stdout",
          "text": [
            "holy home\n"
          ]
        }
      ]
    },
    {
      "cell_type": "code",
      "source": [
        "x= \"holyshit\"\n",
        "k = x.replace(\"shit\",\" home\")\n",
        "print(k)"
      ],
      "metadata": {
        "colab": {
          "base_uri": "https://localhost:8080/"
        },
        "id": "mTR57OSjbVbz",
        "outputId": "c66998ce-808e-46ac-a4aa-cd55173b4d90"
      },
      "execution_count": 2,
      "outputs": [
        {
          "output_type": "stream",
          "name": "stdout",
          "text": [
            "holy home\n"
          ]
        }
      ]
    },
    {
      "cell_type": "code",
      "source": [
        "p = \"my name is khan\"\n",
        "k = p.split(\" \")\n",
        "print(k)"
      ],
      "metadata": {
        "colab": {
          "base_uri": "https://localhost:8080/"
        },
        "id": "HaeTHQ7ybXDj",
        "outputId": "0536600a-0e72-4b19-f1c8-4ee74b139e70"
      },
      "execution_count": 3,
      "outputs": [
        {
          "output_type": "stream",
          "name": "stdout",
          "text": [
            "['my', 'name', 'is', 'khan']\n"
          ]
        }
      ]
    },
    {
      "cell_type": "code",
      "source": [
        "p = \"home make me home\"\n",
        "x = \"home\"\n",
        "k = p.split(\" \")\n",
        "count = 0\n",
        "print(k)\n",
        "for word in k:\n",
        "  if(word == x):\n",
        "    count+=1\n",
        "print(count)"
      ],
      "metadata": {
        "colab": {
          "base_uri": "https://localhost:8080/"
        },
        "id": "5gotFA_jbdaG",
        "outputId": "c0be06d2-5e1b-4cea-835e-a2c6feb78362"
      },
      "execution_count": 4,
      "outputs": [
        {
          "output_type": "stream",
          "name": "stdout",
          "text": [
            "['home', 'make', 'me', 'home']\n",
            "2\n"
          ]
        }
      ]
    },
    {
      "cell_type": "markdown",
      "source": [
        "# **Function**"
      ],
      "metadata": {
        "id": "vvfG0JvCRqM7"
      }
    },
    {
      "cell_type": "code",
      "source": [
        "def maxSecondMax(list1):\n",
        "  m = list1[0]\n",
        "  s = list1[0]\n",
        "  idx = 0\n",
        "  for i in range(1, len(list1)):\n",
        "    if m < list1[i]:\n",
        "      m = list1[i]\n",
        "      idx = i\n",
        "  second = -9999;\n",
        "  for i in range(len(list1)):\n",
        "    if second < list1[i] and i != idx:\n",
        "      second = list1[i]\n",
        "  return m, second"
      ],
      "metadata": {
        "id": "xzioUZXTRv7j"
      },
      "execution_count": null,
      "outputs": []
    },
    {
      "cell_type": "code",
      "source": [
        "def maxSecondMax1(list1):\n",
        "  m = max(list1)\n",
        "  s = -9999\n",
        "  for item in list1:\n",
        "    if item > s and item !=m:\n",
        "      s = item\n",
        "  return m, s"
      ],
      "metadata": {
        "id": "OgRrkL-4TjmS"
      },
      "execution_count": null,
      "outputs": []
    },
    {
      "cell_type": "code",
      "source": [
        "list1 = [25, 34, 12, 13, 3, 76, 29]\n",
        "x = maxSecondMax1(list1)"
      ],
      "metadata": {
        "id": "A4MOzmTSSCGS"
      },
      "execution_count": null,
      "outputs": []
    },
    {
      "cell_type": "code",
      "source": [
        "def findCount(sentence, sub):\n",
        "  c = 0\n",
        "  temp = \"\"\n",
        "  for i in range(len(sentence)):\n",
        "    if sentence[i] != ' ':\n",
        "      temp = temp + sentence[i]\n",
        "    elif sentence[i] == ' ':\n",
        "      if temp == sub:\n",
        "        c+=1\n",
        "      temp = \"\"\n",
        "  return c"
      ],
      "metadata": {
        "id": "_b-LhAOMUhh-"
      },
      "execution_count": null,
      "outputs": []
    },
    {
      "cell_type": "code",
      "source": [
        "def findCount1(sentence, sub):\n",
        "  c = 0\n",
        "  list1 = sentence.split()\n",
        "  for word in list1:\n",
        "    if word == sub:\n",
        "      c+=1\n",
        "  return c"
      ],
      "metadata": {
        "id": "87m-_DwWWU5_"
      },
      "execution_count": null,
      "outputs": []
    },
    {
      "cell_type": "code",
      "source": [
        "print(findCount1(\"this is the best team in the world\", \"the\"))print(findCount1(\"this is the best team in the world\", \"the\"))"
      ],
      "metadata": {
        "colab": {
          "base_uri": "https://localhost:8080/"
        },
        "id": "U0tEhUQHUiTR",
        "outputId": "a042300f-a31f-4438-f506-196f690a5059"
      },
      "execution_count": null,
      "outputs": [
        {
          "output_type": "stream",
          "name": "stdout",
          "text": [
            "2\n"
          ]
        }
      ]
    },
    {
      "cell_type": "code",
      "source": [
        "\"this is the best team in the world\".split()\n",
        "# split() <-function to break bigger strings or a line into several small strings"
      ],
      "metadata": {
        "colab": {
          "base_uri": "https://localhost:8080/"
        },
        "id": "yzimxI1FWcxA",
        "outputId": "8a30a8d7-d8ea-48c4-bd8f-c969bdee2565"
      },
      "execution_count": null,
      "outputs": [
        {
          "output_type": "execute_result",
          "data": {
            "text/plain": [
              "['this', 'is', 'the', 'best', 'team', 'in', 'the', 'world']"
            ]
          },
          "metadata": {},
          "execution_count": 10
        }
      ]
    },
    {
      "cell_type": "code",
      "source": [],
      "metadata": {
        "id": "5pslShrpXCWY"
      },
      "execution_count": null,
      "outputs": []
    },
    {
      "cell_type": "markdown",
      "source": [
        "# **Dictionaries**"
      ],
      "metadata": {
        "id": "mCtg7tDgW-BI"
      }
    },
    {
      "cell_type": "code",
      "source": [
        "student = {\n",
        "    \"name\": \"Alice\",\n",
        "    \"id\": 1,\n",
        "    \"cgpa\": 3.9\n",
        "}"
      ],
      "metadata": {
        "id": "_npXK9NrXEII"
      },
      "execution_count": null,
      "outputs": []
    },
    {
      "cell_type": "code",
      "source": [
        "print(student[\"id\"])"
      ],
      "metadata": {
        "colab": {
          "base_uri": "https://localhost:8080/"
        },
        "id": "x_CuOkPJY1K3",
        "outputId": "ace57a8c-a725-4dac-894b-5d47cdbe5873"
      },
      "execution_count": null,
      "outputs": [
        {
          "output_type": "stream",
          "name": "stdout",
          "text": [
            "1\n"
          ]
        }
      ]
    },
    {
      "cell_type": "code",
      "source": [
        "print(student.items())"
      ],
      "metadata": {
        "colab": {
          "base_uri": "https://localhost:8080/"
        },
        "id": "8hgzSc6SYDTA",
        "outputId": "496aa579-253c-45d1-a47d-fc37232567a7"
      },
      "execution_count": null,
      "outputs": [
        {
          "output_type": "stream",
          "name": "stdout",
          "text": [
            "dict_items([('name', 'Alice'), ('id', 1), ('cgpa', 3.9)])\n"
          ]
        }
      ]
    },
    {
      "cell_type": "code",
      "source": [
        "print(student.values())"
      ],
      "metadata": {
        "colab": {
          "base_uri": "https://localhost:8080/"
        },
        "id": "8P1BqWg2YO6H",
        "outputId": "3f4e28f4-61bd-4c13-f5aa-3d4db0aafaa4"
      },
      "execution_count": null,
      "outputs": [
        {
          "output_type": "stream",
          "name": "stdout",
          "text": [
            "dict_values(['Alice', 1, 3.9])\n"
          ]
        }
      ]
    },
    {
      "cell_type": "code",
      "source": [
        "print(student.keys())"
      ],
      "metadata": {
        "colab": {
          "base_uri": "https://localhost:8080/"
        },
        "id": "amm7KoDAYUeH",
        "outputId": "be923726-3eb5-4478-d2d0-430d11a7300a"
      },
      "execution_count": null,
      "outputs": [
        {
          "output_type": "stream",
          "name": "stdout",
          "text": [
            "dict_keys(['name', 'id', 'cgpa'])\n"
          ]
        }
      ]
    },
    {
      "cell_type": "code",
      "source": [
        "studentlist = [\n",
        "    {\n",
        "    \"name\": \"Alice\",\n",
        "    \"id\": 1,\n",
        "    \"cgpa\": 3.1\n",
        "    },\n",
        "    {\n",
        "    \"name\": \"Bob\",\n",
        "    \"id\": 2,\n",
        "    \"cgpa\": 3.5\n",
        "    },\n",
        "    {\n",
        "    \"name\": \"Charlie\",\n",
        "    \"id\": 3,\n",
        "    \"cgpa\": 3.95\n",
        "    },\n",
        "    {\n",
        "    \"name\": \"Danny\",\n",
        "    \"id\": 4,\n",
        "    \"cgpa\": 3.3\n",
        "    }\n",
        "]"
      ],
      "metadata": {
        "id": "uuHioO4VYbTQ"
      },
      "execution_count": null,
      "outputs": []
    },
    {
      "cell_type": "code",
      "source": [
        "max = studentlist[0]\n",
        "for i in range(1, len(studentlist)):\n",
        "  if studentlist[i][\"cgpa\"] > max[\"cgpa\"]:\n",
        "    max = studentlist[i]\n",
        "print(max)"
      ],
      "metadata": {
        "colab": {
          "base_uri": "https://localhost:8080/"
        },
        "id": "80XXB274Y8XA",
        "outputId": "7e265745-864e-4d53-fe60-9ae56295bc46"
      },
      "execution_count": null,
      "outputs": [
        {
          "output_type": "stream",
          "name": "stdout",
          "text": [
            "{'name': 'Charlie', 'id': 3, 'cgpa': 3.95}\n"
          ]
        }
      ]
    },
    {
      "cell_type": "code",
      "source": [
        "list1 = [1, 2, 3, 4, 5, 6]\n",
        "list2 = list1[1:len(list1)-1]\n",
        "print(list2)"
      ],
      "metadata": {
        "colab": {
          "base_uri": "https://localhost:8080/"
        },
        "id": "wHHPE8j-Z3Nn",
        "outputId": "65d8b9ce-6946-4c2c-93d9-774b4ba6ef5d"
      },
      "execution_count": null,
      "outputs": [
        {
          "output_type": "stream",
          "name": "stdout",
          "text": [
            "[2, 3, 4, 5]\n"
          ]
        }
      ]
    },
    {
      "cell_type": "code",
      "source": [
        "print(list2[-1])"
      ],
      "metadata": {
        "colab": {
          "base_uri": "https://localhost:8080/"
        },
        "id": "XjqsG1dSaYdf",
        "outputId": "432d2da3-f47c-4173-a3a2-41b30040cb9a"
      },
      "execution_count": null,
      "outputs": [
        {
          "output_type": "stream",
          "name": "stdout",
          "text": [
            "5\n"
          ]
        }
      ]
    },
    {
      "cell_type": "markdown",
      "source": [
        "Lambda function"
      ],
      "metadata": {
        "id": "8z-NAPREazD_"
      }
    },
    {
      "cell_type": "code",
      "source": [
        "def double(x):\n",
        "  return x*2"
      ],
      "metadata": {
        "id": "6-EaAXwka1LX"
      },
      "execution_count": null,
      "outputs": []
    },
    {
      "cell_type": "code",
      "source": [
        "print(double(5))"
      ],
      "metadata": {
        "colab": {
          "base_uri": "https://localhost:8080/"
        },
        "id": "AsoZkSjnayq-",
        "outputId": "1067c9be-1f87-4a7c-c917-c493fa44c87e"
      },
      "execution_count": null,
      "outputs": [
        {
          "output_type": "stream",
          "name": "stdout",
          "text": [
            "10\n"
          ]
        }
      ]
    },
    {
      "cell_type": "code",
      "source": [
        "double = lambda x: x*2\n",
        "print(double(5))"
      ],
      "metadata": {
        "colab": {
          "base_uri": "https://localhost:8080/"
        },
        "id": "BIP8zGmmbALv",
        "outputId": "4f12d3d1-c609-4582-f418-999c5daf363d"
      },
      "execution_count": null,
      "outputs": [
        {
          "output_type": "stream",
          "name": "stdout",
          "text": [
            "10\n"
          ]
        }
      ]
    },
    {
      "cell_type": "code",
      "source": [
        "add = lambda a, b: a+b\n",
        "print(add(5,10))"
      ],
      "metadata": {
        "colab": {
          "base_uri": "https://localhost:8080/"
        },
        "id": "mShg3FhCbR6X",
        "outputId": "4bd96039-6133-4580-ee2d-f13f7c0fe25c"
      },
      "execution_count": null,
      "outputs": [
        {
          "output_type": "stream",
          "name": "stdout",
          "text": [
            "15\n"
          ]
        }
      ]
    },
    {
      "cell_type": "code",
      "source": [
        "sub = lambda a, b: a-b\n",
        "print(sub(10,2))"
      ],
      "metadata": {
        "colab": {
          "base_uri": "https://localhost:8080/"
        },
        "id": "aYT-24yGN34A",
        "outputId": "27a00da0-6f1d-4667-cb9c-6719e2bd8e54"
      },
      "execution_count": null,
      "outputs": [
        {
          "output_type": "stream",
          "name": "stdout",
          "text": [
            "8\n"
          ]
        }
      ]
    },
    {
      "cell_type": "markdown",
      "source": [
        "**Class**"
      ],
      "metadata": {
        "id": "SJBrV_ZebjFf"
      }
    },
    {
      "cell_type": "code",
      "source": [
        "class Student:\n",
        "  id = 0\n",
        "  name = \"\"\n",
        "  cgpa = 0.0\n",
        "  def __init__(self, id, name, cgpa):\n",
        "    self.id = id\n",
        "    self.cgpa = cgpa\n",
        "    self.name = name\n",
        "  def toString(self):\n",
        "    return f'ID: {self.id} Name: {self.name} Cgpa: {self.cgpa}'\n"
      ],
      "metadata": {
        "id": "xWPT1es6bkgX"
      },
      "execution_count": null,
      "outputs": []
    },
    {
      "cell_type": "code",
      "source": [
        "s = Student(1, \"Alice\", 3.8)\n",
        "print(s.toString())"
      ],
      "metadata": {
        "colab": {
          "base_uri": "https://localhost:8080/"
        },
        "id": "62jn9zacc6dW",
        "outputId": "7d8c9a2e-2f20-47a7-d0f3-6508fbf4ef07"
      },
      "execution_count": null,
      "outputs": [
        {
          "output_type": "stream",
          "name": "stdout",
          "text": [
            "ID: 1 Name: Alice Cgpa: 3.8\n"
          ]
        }
      ]
    },
    {
      "cell_type": "markdown",
      "source": [
        "# List Comprehension"
      ],
      "metadata": {
        "id": "WySqW0QSdtsQ"
      }
    },
    {
      "cell_type": "code",
      "source": [
        "list1 = []\n",
        "for i in range(1, 101):\n",
        "  list1.append(i)\n",
        "print(list1)"
      ],
      "metadata": {
        "colab": {
          "base_uri": "https://localhost:8080/"
        },
        "id": "Rg-fE8SZdwk4",
        "outputId": "70dee17d-c93d-46c0-b66a-d3ee496d25fa"
      },
      "execution_count": null,
      "outputs": [
        {
          "output_type": "stream",
          "name": "stdout",
          "text": [
            "[1, 2, 3, 4, 5, 6, 7, 8, 9, 10, 11, 12, 13, 14, 15, 16, 17, 18, 19, 20, 21, 22, 23, 24, 25, 26, 27, 28, 29, 30, 31, 32, 33, 34, 35, 36, 37, 38, 39, 40, 41, 42, 43, 44, 45, 46, 47, 48, 49, 50, 51, 52, 53, 54, 55, 56, 57, 58, 59, 60, 61, 62, 63, 64, 65, 66, 67, 68, 69, 70, 71, 72, 73, 74, 75, 76, 77, 78, 79, 80, 81, 82, 83, 84, 85, 86, 87, 88, 89, 90, 91, 92, 93, 94, 95, 96, 97, 98, 99, 100]\n"
          ]
        }
      ]
    },
    {
      "cell_type": "code",
      "source": [
        "list1 = []\n",
        "k = int(input())\n",
        "for i in range(0, k):\n",
        "  list1.append(int(input()))\n",
        "print(list1)"
      ],
      "metadata": {
        "colab": {
          "base_uri": "https://localhost:8080/"
        },
        "id": "dokaO9v8OLtv",
        "outputId": "dcc4d7f1-5236-46be-edc6-df1a02d17e92"
      },
      "execution_count": null,
      "outputs": [
        {
          "output_type": "stream",
          "name": "stdout",
          "text": [
            "3\n",
            "1\n",
            "2\n",
            "3\n",
            "[1, 2, 3]\n"
          ]
        }
      ]
    },
    {
      "cell_type": "code",
      "source": [
        "list1 = [i for i in range(1, 101)]\n",
        "print(list1)"
      ],
      "metadata": {
        "colab": {
          "base_uri": "https://localhost:8080/"
        },
        "id": "GHsh1f7WeY2-",
        "outputId": "e4b79efe-0b9c-4687-ce48-a34da25f2e8e"
      },
      "execution_count": null,
      "outputs": [
        {
          "output_type": "stream",
          "name": "stdout",
          "text": [
            "[1, 2, 3, 4, 5, 6, 7, 8, 9, 10, 11, 12, 13, 14, 15, 16, 17, 18, 19, 20, 21, 22, 23, 24, 25, 26, 27, 28, 29, 30, 31, 32, 33, 34, 35, 36, 37, 38, 39, 40, 41, 42, 43, 44, 45, 46, 47, 48, 49, 50, 51, 52, 53, 54, 55, 56, 57, 58, 59, 60, 61, 62, 63, 64, 65, 66, 67, 68, 69, 70, 71, 72, 73, 74, 75, 76, 77, 78, 79, 80, 81, 82, 83, 84, 85, 86, 87, 88, 89, 90, 91, 92, 93, 94, 95, 96, 97, 98, 99, 100]\n"
          ]
        }
      ]
    },
    {
      "cell_type": "code",
      "source": [
        "list2 = [i for i in range(1,16,2) if str(5) in str(i)]\n",
        "print(list2)"
      ],
      "metadata": {
        "colab": {
          "base_uri": "https://localhost:8080/"
        },
        "id": "K6WLHspmQDs3",
        "outputId": "bcc69f1d-8dc2-4508-9116-dbf4e070a4dc"
      },
      "execution_count": null,
      "outputs": [
        {
          "output_type": "stream",
          "name": "stdout",
          "text": [
            "[5, 15]\n"
          ]
        }
      ]
    },
    {
      "cell_type": "code",
      "source": [
        "list1 = [i for i in range(1, 101) if i%5==0]\n",
        "print(list1)"
      ],
      "metadata": {
        "colab": {
          "base_uri": "https://localhost:8080/"
        },
        "id": "0kFdrhcse1J9",
        "outputId": "6420e817-980e-4ccc-96ae-ed0e070269ab"
      },
      "execution_count": null,
      "outputs": [
        {
          "output_type": "stream",
          "name": "stdout",
          "text": [
            "[5, 10, 15, 20, 25, 30, 35, 40, 45, 50, 55, 60, 65, 70, 75, 80, 85, 90, 95, 100]\n"
          ]
        }
      ]
    },
    {
      "cell_type": "code",
      "source": [
        "list1 = [i for i in range(1, 101) if '6' in str(i) and i%2==0 ]\n",
        "print(list1)"
      ],
      "metadata": {
        "colab": {
          "base_uri": "https://localhost:8080/"
        },
        "id": "O1Kqos8_gWDM",
        "outputId": "ee954940-4927-429a-8ef3-6020ffbb44c1"
      },
      "execution_count": null,
      "outputs": [
        {
          "output_type": "stream",
          "name": "stdout",
          "text": [
            "[6, 16, 26, 36, 46, 56, 60, 62, 64, 66, 68, 76, 86, 96]\n"
          ]
        }
      ]
    },
    {
      "cell_type": "code",
      "source": [
        "sentence = \"the quick brown fox jumps over the lazy dog\"\n",
        "result = []\n",
        "for item in sentence.split():\n",
        "  result.append(len(item))\n",
        "print(result)"
      ],
      "metadata": {
        "colab": {
          "base_uri": "https://localhost:8080/"
        },
        "id": "orVimXQMhCMM",
        "outputId": "d6f2e8d6-af39-44e4-8592-e98cd1865da3"
      },
      "execution_count": null,
      "outputs": [
        {
          "output_type": "stream",
          "name": "stdout",
          "text": [
            "[3, 5, 5, 3, 5, 4, 3, 4, 3]\n"
          ]
        }
      ]
    },
    {
      "cell_type": "code",
      "source": [
        "result = [len(item) for item in sentence.split() if item!=\"the\"]\n",
        "print(result)"
      ],
      "metadata": {
        "colab": {
          "base_uri": "https://localhost:8080/"
        },
        "id": "7gRWTFEEhbwU",
        "outputId": "d120e7fe-ee04-4e60-d412-af07be420860"
      },
      "execution_count": null,
      "outputs": [
        {
          "output_type": "stream",
          "name": "stdout",
          "text": [
            "[5, 5, 3, 5, 4, 4, 3]\n"
          ]
        }
      ]
    },
    {
      "cell_type": "code",
      "source": [
        "matrix = [[i for i in range(5)] for j in range(5)]\n",
        "print(matrix)"
      ],
      "metadata": {
        "colab": {
          "base_uri": "https://localhost:8080/"
        },
        "id": "85IweOv6hyKN",
        "outputId": "7bd90f97-96eb-4410-f7a6-ec3a71cb61b0"
      },
      "execution_count": null,
      "outputs": [
        {
          "output_type": "stream",
          "name": "stdout",
          "text": [
            "[[0, 1, 2, 3, 4], [0, 1, 2, 3, 4], [0, 1, 2, 3, 4], [0, 1, 2, 3, 4], [0, 1, 2, 3, 4]]\n"
          ]
        }
      ]
    },
    {
      "cell_type": "markdown",
      "source": [
        "# Set"
      ],
      "metadata": {
        "id": "YMOyL-mvlQOk"
      }
    },
    {
      "cell_type": "code",
      "source": [
        "print(set(\"my name is Eric and Eric is my name\".split()))"
      ],
      "metadata": {
        "colab": {
          "base_uri": "https://localhost:8080/"
        },
        "id": "kw9sLCR5k0Qj",
        "outputId": "e1d92d7e-a249-43ea-c92a-cce78b69a271"
      },
      "execution_count": null,
      "outputs": [
        {
          "output_type": "stream",
          "name": "stdout",
          "text": [
            "{'name', 'and', 'my', 'Eric', 'is'}\n"
          ]
        }
      ]
    },
    {
      "cell_type": "code",
      "source": [
        "a = {\"Alice\", \"Bob\", \"Charlie\"}\n",
        "b = {\"Alice\", \"Bob\", \"Danny\"}\n",
        "print(a.union(b))\n",
        "print(a.intersection(b))\n",
        "print(a.difference(b))\n",
        "print(a.symmetric_difference(b))"
      ],
      "metadata": {
        "colab": {
          "base_uri": "https://localhost:8080/"
        },
        "id": "nGPJYFkNlepz",
        "outputId": "af7c61d6-5b6e-4eaf-e33d-fbf2825b957d"
      },
      "execution_count": null,
      "outputs": [
        {
          "output_type": "stream",
          "name": "stdout",
          "text": [
            "{'Alice', 'Danny', 'Bob', 'Charlie'}\n",
            "{'Bob', 'Alice'}\n",
            "{'Charlie'}\n",
            "{'Danny', 'Charlie'}\n"
          ]
        }
      ]
    },
    {
      "cell_type": "markdown",
      "source": [
        "# map() filter()"
      ],
      "metadata": {
        "id": "-4oYAGU8mrHy"
      }
    },
    {
      "cell_type": "markdown",
      "source": [
        "**Note :** map is simply use for receiving a function and a list together."
      ],
      "metadata": {
        "id": "SPStlHUaFsDc"
      }
    },
    {
      "cell_type": "code",
      "source": [
        "def double(x):\n",
        "  return x*2"
      ],
      "metadata": {
        "id": "wgSZeOPpmvEq"
      },
      "execution_count": null,
      "outputs": []
    },
    {
      "cell_type": "code",
      "source": [
        "list1 = [1, 2, 4, 5, 6]\n",
        "result = [item for item in map(double, list1)]\n",
        "print(result)"
      ],
      "metadata": {
        "colab": {
          "base_uri": "https://localhost:8080/"
        },
        "id": "aS4J_InpnHD9",
        "outputId": "1d652d51-b4a5-4c7c-c329-35ae195fa211"
      },
      "execution_count": null,
      "outputs": [
        {
          "output_type": "stream",
          "name": "stdout",
          "text": [
            "[2, 4, 8]\n"
          ]
        }
      ]
    },
    {
      "cell_type": "code",
      "source": [
        "def filterVowels(letter):\n",
        "    vowels = ['a', 'e', 'i', 'o', 'u']\n",
        "    if(letter in vowels):\n",
        "        return False\n",
        "    else:\n",
        "        return True"
      ],
      "metadata": {
        "id": "6n9DuQ4tn_a1"
      },
      "execution_count": null,
      "outputs": []
    },
    {
      "cell_type": "code",
      "source": [
        "sentence = \"the quick brown fox jumps over the lazy dog\"\n",
        "chars = [i for i in sentence]\n",
        "result = set([item for item in filter(filterVowels, chars) if item != ' '])\n",
        "print(result)"
      ],
      "metadata": {
        "colab": {
          "base_uri": "https://localhost:8080/"
        },
        "id": "IeeT6SLZoRA8",
        "outputId": "12472e0a-5b48-4595-beef-18321e43131a"
      },
      "execution_count": null,
      "outputs": [
        {
          "output_type": "stream",
          "name": "stdout",
          "text": [
            "{'d', 't', 'k', 'w', 'l', 'c', 'v', 'g', 'b', 'm', 'h', 'r', 'y', 'z', 'j', 'x', 'p', 'q', 'n', 'f', 's'}\n"
          ]
        }
      ]
    },
    {
      "cell_type": "code",
      "source": [
        "def add(a, b):\n",
        "  return a+b\n",
        "\n",
        "# importing functools for reduce()\n",
        "import functools\n",
        "\n",
        "# initializing list\n",
        "list1 = [1, 3, 5, 6, 2]\n",
        "\n",
        "# using reduce to compute sum of list\n",
        "print (\"The sum of the list elements is : \")\n",
        "print (functools.reduce(add, list1))"
      ],
      "metadata": {
        "colab": {
          "base_uri": "https://localhost:8080/"
        },
        "id": "hnuc79dzpfZE",
        "outputId": "c946bd60-3d24-48ce-bcff-679c091f2695"
      },
      "execution_count": null,
      "outputs": [
        {
          "output_type": "stream",
          "name": "stdout",
          "text": [
            "The sum of the list elements is : \n",
            "17\n"
          ]
        }
      ]
    },
    {
      "cell_type": "markdown",
      "source": [
        "example of lamda map filter\n"
      ],
      "metadata": {
        "id": "t1D8eVCNbCYJ"
      }
    },
    {
      "cell_type": "code",
      "source": [
        "list1 = [1,10,7,8,9,4]\n",
        "k = list(filter(lambda x : x%2==0, list1))\n",
        "print(list(filter(lambda x : x%2==0, list1)))\n",
        "\n",
        "def add(k):\n",
        "\n",
        "   return k+1\n",
        "\n",
        "k = list(map(add,k))\n",
        "print(k)"
      ],
      "metadata": {
        "id": "GFQ2Kii1bIUu"
      },
      "execution_count": null,
      "outputs": []
    }
  ]
}