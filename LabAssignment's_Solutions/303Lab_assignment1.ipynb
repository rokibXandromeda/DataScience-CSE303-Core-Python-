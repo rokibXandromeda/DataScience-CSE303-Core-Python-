{
  "nbformat": 4,
  "nbformat_minor": 0,
  "metadata": {
    "colab": {
      "provenance": []
    },
    "kernelspec": {
      "name": "python3",
      "display_name": "Python 3"
    },
    "language_info": {
      "name": "python"
    }
  },
  "cells": [
    {
      "cell_type": "markdown",
      "source": [
        "**1. Given two integer numbers, write a Python program to return their product. If the product is greater\n",
        "than 1000, then return their sum. Read inputs from the user** **bold text**"
      ],
      "metadata": {
        "id": "ei8ac9MhCldN"
      }
    },
    {
      "cell_type": "code",
      "execution_count": null,
      "metadata": {
        "colab": {
          "base_uri": "https://localhost:8080/"
        },
        "id": "LA-fqJHUBKj1",
        "outputId": "94efd957-e6de-42e9-cf21-3ea3c71c3941"
      },
      "outputs": [
        {
          "output_type": "stream",
          "name": "stdout",
          "text": [
            "500\n",
            "3\n",
            "503\n"
          ]
        }
      ],
      "source": [
        "x = int(input())\n",
        "y = int(input())\n",
        "if x*y>1000:\n",
        "  print(x+y)\n",
        "\n"
      ]
    },
    {
      "cell_type": "markdown",
      "source": [
        "2. **Write a Python program to find the area and perimeter of a circle. Read inputs from the user.**"
      ],
      "metadata": {
        "id": "m5iCshUXCz9k"
      }
    },
    {
      "cell_type": "code",
      "source": [
        "length = int(input())\n",
        "width = int(input())\n",
        "radius = int(input())\n",
        "# print(0.5*length*width)\n",
        "z= 0.5*length*width\n",
        "k= 2*3.1416*radius\n",
        "print(\"the are of a circle is :\", z)\n",
        "print(\"the are of a circle is :\", k)"
      ],
      "metadata": {
        "colab": {
          "base_uri": "https://localhost:8080/"
        },
        "id": "IR_EsRraC818",
        "outputId": "a458ea10-d122-452f-f814-a1b931ba682e"
      },
      "execution_count": 4,
      "outputs": [
        {
          "output_type": "stream",
          "name": "stdout",
          "text": [
            "2\n",
            "3\n",
            "2\n",
            "the are of a circle is : 3.0\n",
            "the are of a circle is : 12.5664\n"
          ]
        }
      ]
    },
    {
      "cell_type": "code",
      "source": [],
      "metadata": {
        "id": "6-37qoVkH76U"
      },
      "execution_count": null,
      "outputs": []
    },
    {
      "cell_type": "markdown",
      "source": [
        "***3. Write a Python program to calculate the compound interest based on the given formula. Read inputs\n",
        "from the user.\n",
        "A = P * (1 + R/100)T where P is the principle amount, R is the interest rate and T is time (in years).\n",
        "Define a function named as compound_interest_<your-student-id> in your program***"
      ],
      "metadata": {
        "id": "oJQHGmmHBOKt"
      }
    },
    {
      "cell_type": "code",
      "source": [
        "def compound_interest2020_2_60_190(p,r,t):\n",
        "  x = (1 + r/100)\n",
        "  while t>0:\n",
        "    x = x*x\n",
        "    t = t-2\n",
        "  k = p*x\n",
        "  return k\n"
      ],
      "metadata": {
        "id": "Xb6MOq1iBVXA"
      },
      "execution_count": null,
      "outputs": []
    },
    {
      "cell_type": "code",
      "source": [
        "compound_interest2020_2_60_190(2,2,2)"
      ],
      "metadata": {
        "colab": {
          "base_uri": "https://localhost:8080/"
        },
        "id": "5tF2SaRMBZ6X",
        "outputId": "affc4af9-49e3-4744-f248-586029d0737e"
      },
      "execution_count": null,
      "outputs": [
        {
          "output_type": "execute_result",
          "data": {
            "text/plain": [
              "2.0808"
            ]
          },
          "metadata": {},
          "execution_count": 25
        }
      ]
    },
    {
      "cell_type": "markdown",
      "source": [
        "**4. Given a positive integer N (read from the user), write a Python program to calculate the value of the\n",
        "following series. 1\n",
        "2 + 2\n",
        "2 + 3\n",
        "2 + 4\n",
        "2 ..... + N** **bold text**"
      ],
      "metadata": {
        "id": "EUCS5v77Djg1"
      }
    },
    {
      "cell_type": "code",
      "source": [
        "x = int(input())\n",
        "s= 0\n",
        "for i in range(x+1):\n",
        "  s = s + i*i\n",
        "print(s)"
      ],
      "metadata": {
        "colab": {
          "base_uri": "https://localhost:8080/"
        },
        "id": "3F3cL-6sE3HO",
        "outputId": "f4d20ec5-d001-4aef-cd65-4edcbdf42346"
      },
      "execution_count": null,
      "outputs": [
        {
          "output_type": "stream",
          "name": "stdout",
          "text": [
            "5\n",
            "55\n"
          ]
        }
      ]
    },
    {
      "cell_type": "markdown",
      "source": [
        "**5. Given a positive integer N (read from the user), write a Python program to check if the number is\n",
        "prime or not. Define a function named as prime_find_<your-student-id> in your program.**"
      ],
      "metadata": {
        "id": "4Gl9qC6oH-DV"
      }
    },
    {
      "cell_type": "code",
      "source": [
        "def prime_find2020_2_60_190(n):\n",
        "  k=2\n",
        "  for i in range(2,n-1):\n",
        "   if n%k ==0:\n",
        "     print(\"Not Prime\")\n",
        "     break\n",
        "   else :\n",
        "     k=k+1\n",
        "     if k == n-1:\n",
        "      print(\"Prime\")\n"
      ],
      "metadata": {
        "id": "HoFOctlO_Qtk"
      },
      "execution_count": null,
      "outputs": []
    },
    {
      "cell_type": "code",
      "source": [
        "number = int(input())\n",
        "prime_find2020_2_60_190(number)"
      ],
      "metadata": {
        "colab": {
          "base_uri": "https://localhost:8080/"
        },
        "id": "RF21QBLFEb0C",
        "outputId": "8753f5e8-1031-4bcd-ce4b-319fff5ea7ba"
      },
      "execution_count": null,
      "outputs": [
        {
          "output_type": "stream",
          "name": "stdout",
          "text": [
            "10\n",
            "Not Prime\n"
          ]
        }
      ]
    },
    {
      "cell_type": "markdown",
      "source": [
        "**6. Given a positive integer n (read from the user), write a Python program to find the n-th Fibonacci\n",
        "number based on the following assumptions. Fn = Fn-1 + Fn-2 where F0 = 0 and F1 = 1**"
      ],
      "metadata": {
        "id": "Nxqcu9xQL4jK"
      }
    },
    {
      "cell_type": "code",
      "source": [
        "x= int(input())\n",
        "if x == 0:\n",
        "  print(\"0\")\n",
        "elif x == 1:\n",
        "  print(\"1\")\n",
        "else:\n",
        "  x = (x-2) + (x-1)\n",
        "print(x)"
      ],
      "metadata": {
        "colab": {
          "base_uri": "https://localhost:8080/"
        },
        "id": "k7hEPmNmL4sq",
        "outputId": "4d01ce9b-71fe-44f5-8d87-47b39a1694b7"
      },
      "execution_count": null,
      "outputs": [
        {
          "output_type": "stream",
          "name": "stdout",
          "text": [
            "13\n",
            "23\n"
          ]
        }
      ]
    },
    {
      "cell_type": "markdown",
      "source": [
        "**7. Given a list of numbers (hardcoded in the program), write a Python program to calculate the sum of\n",
        "the list. Do not use any built-in function.**"
      ],
      "metadata": {
        "id": "me2gmCIdROpn"
      }
    },
    {
      "cell_type": "code",
      "source": [
        "numbers = [2,3,5,6,8,9]\n",
        "s = 0\n",
        "for i in range(len(numbers)):\n",
        "  s = s+numbers[i]\n",
        "\n",
        "print(s)"
      ],
      "metadata": {
        "colab": {
          "base_uri": "https://localhost:8080/"
        },
        "id": "KE7yC_wUQQd-",
        "outputId": "daba2082-64db-4123-da76-603fac7873a7"
      },
      "execution_count": null,
      "outputs": [
        {
          "output_type": "stream",
          "name": "stdout",
          "text": [
            "[2, 3, 5, 6, 8, 9]\n",
            "33\n"
          ]
        }
      ]
    },
    {
      "cell_type": "markdown",
      "source": [
        "**8. Given a list of numbers (hardcoded in the program), write a Python program to calculate the sum of\n",
        "the even-indexed elements in the list**"
      ],
      "metadata": {
        "id": "K4wdb88PRcB1"
      }
    },
    {
      "cell_type": "code",
      "source": [
        "numbers = [2,3,5,6,8,9]\n",
        "s = 0\n",
        "for i in range(0, len(numbers), 2):\n",
        "  s = s+numbers[i]\n",
        "\n",
        "print(s)"
      ],
      "metadata": {
        "colab": {
          "base_uri": "https://localhost:8080/"
        },
        "id": "PGgqsT2-RcWu",
        "outputId": "89fc2932-713b-4908-b9b5-332c873a3ad0"
      },
      "execution_count": null,
      "outputs": [
        {
          "output_type": "stream",
          "name": "stdout",
          "text": [
            "15\n"
          ]
        }
      ]
    },
    {
      "cell_type": "markdown",
      "source": [
        "**9. Given a list of numbers (hardcoded in the program), write a Python program to find the largest and\n",
        "smallest element of the list. Define two functions largest_number_<your-student-id> and\n",
        "smallest_number_<your-student-id> in your program. Do not use any built-in function.**"
      ],
      "metadata": {
        "id": "IF0VLiKTR6ec"
      }
    },
    {
      "cell_type": "code",
      "source": [
        "def largest_number_2020_2_60_190(numbers):\n",
        "  for i in range(1, len(numbers)):\n",
        "    if numbers[i] >= numbers[i-1]:\n",
        "      s= numbers[i]\n",
        "  return s"
      ],
      "metadata": {
        "id": "ktm3aMAD2iqh"
      },
      "execution_count": null,
      "outputs": []
    },
    {
      "cell_type": "code",
      "source": [
        "numbers = [2,3,6,9,8,7,10]\n",
        "largest_number_2020_2_60_190(numbers)"
      ],
      "metadata": {
        "colab": {
          "base_uri": "https://localhost:8080/"
        },
        "id": "ETwVKc815g_h",
        "outputId": "c1f74776-664f-4e78-c9bc-f5618a48b471"
      },
      "execution_count": null,
      "outputs": [
        {
          "output_type": "execute_result",
          "data": {
            "text/plain": [
              "10"
            ]
          },
          "metadata": {},
          "execution_count": 38
        }
      ]
    },
    {
      "cell_type": "code",
      "source": [
        "def smallest_number_2020_2_60_190(numbers):\n",
        "  for i in range(0,len(numbers)):\n",
        "    if numbers[i-1] <= numbers[i]:\n",
        "      numbers[i] = numbers[i-1]\n",
        "    else:\n",
        "      continue\n",
        "  return s"
      ],
      "metadata": {
        "id": "mVZNHu-f65US"
      },
      "execution_count": null,
      "outputs": []
    },
    {
      "cell_type": "code",
      "source": [
        "numbers = [2,3,6,9,8,7]\n",
        "smallest_number_2020_2_60_190(numbers)"
      ],
      "metadata": {
        "id": "Pyt1Ulqr66gh"
      },
      "execution_count": null,
      "outputs": []
    },
    {
      "cell_type": "markdown",
      "source": [
        "**11. Given a string, display only those characters which are present at an even index number. Read inputs from the user.**"
      ],
      "metadata": {
        "id": "8-4fDzDp6vI3"
      }
    },
    {
      "cell_type": "code",
      "source": [
        "string = input()\n",
        "s= \"\"\n",
        "for i in range(0, len(string), 2):\n",
        "  s = s+string[i]\n",
        "print(s)"
      ],
      "metadata": {
        "id": "kTyYl4WV62GR",
        "colab": {
          "base_uri": "https://localhost:8080/"
        },
        "outputId": "c98bd415-9930-43fb-9c9e-94191019351a"
      },
      "execution_count": null,
      "outputs": [
        {
          "output_type": "stream",
          "name": "stdout",
          "text": [
            "asdfgh\n",
            "adg\n"
          ]
        }
      ]
    },
    {
      "cell_type": "markdown",
      "source": [
        "**12. Given a string and an integer number n, remove characters from a string starting from zero up to n\n",
        "and return a new string. N must be less than the length of the string. Read inputs from the user. Do\n",
        "not use any built-in function**"
      ],
      "metadata": {
        "id": "AdUbx98wdBC5"
      }
    },
    {
      "cell_type": "code",
      "source": [
        "st = input()\n",
        "n = int(input())\n",
        "k = \"\"\n",
        "for i in range(len(st)):\n",
        "  if(i<=n-1):\n",
        "    continue\n",
        "    # k = k+st[i]\n",
        "  else:\n",
        "    k = k+st[i]\n",
        "    # print(st[i])\n",
        "print(k)\n"
      ],
      "metadata": {
        "colab": {
          "base_uri": "https://localhost:8080/"
        },
        "id": "rHh8jMQ1dBM7",
        "outputId": "612cce16-8191-4e75-a9de-66f9bbd3e397"
      },
      "execution_count": null,
      "outputs": [
        {
          "output_type": "stream",
          "name": "stdout",
          "text": [
            "lkjakh\n",
            "4\n",
            "kh\n"
          ]
        }
      ]
    },
    {
      "cell_type": "markdown",
      "source": [
        "**14. Given a string, write a python program to check if it is palindrome or not. Define a function named\n",
        "palindrome_checker_<your-student-id> in your program**"
      ],
      "metadata": {
        "id": "6J3wWgHLIz3E"
      }
    },
    {
      "cell_type": "code",
      "source": [
        "def palindrome_checker_2020_2_60_190(string):\n",
        "    # s = string\n",
        "    # s= \"\"\n",
        "    # for i in range(len(string)):\n",
        "    #    s = s+string[i]\n",
        "    # print(s)\n",
        "    # k = \"\"\n",
        "    # for i in range(len(string),0,1):\n",
        "    #    k = k+ str(string[i])\n",
        "    # print(k)\n",
        "\n",
        "    s = string\n",
        "    k = string [::-1]\n",
        "    if s == k:\n",
        "      print(\"Palindrome\")\n",
        "    else:\n",
        "      print(\"Not Palindrome\")"
      ],
      "metadata": {
        "id": "I3238jZMI0BT"
      },
      "execution_count": null,
      "outputs": []
    },
    {
      "cell_type": "code",
      "source": [
        "string = input()\n",
        "palindrome_checker_2020_2_60_190(string)"
      ],
      "metadata": {
        "colab": {
          "base_uri": "https://localhost:8080/"
        },
        "id": "4FIfwsSMKPRj",
        "outputId": "341341dd-1eea-453d-8f55-8dfb9efbf7f2"
      },
      "execution_count": null,
      "outputs": [
        {
          "output_type": "stream",
          "name": "stdout",
          "text": [
            "asdf\n",
            "Not Palindrome\n"
          ]
        }
      ]
    },
    {
      "cell_type": "markdown",
      "source": [
        "**15. Given a two list of numbers (hardcoded in the program), create a new list such that new list should\n",
        "contain only odd numbers from the first list and even numbers from the second lis**"
      ],
      "metadata": {
        "id": "86GWn8o_UHJz"
      }
    },
    {
      "cell_type": "code",
      "source": [
        "l1 = [1,2,3,4,5,6]\n",
        "l2 = [1,2,3,4,5,6]\n",
        "s = \"\"\n",
        "for i in range(len(l1)):\n",
        "    if l1[i] %2 == 0:\n",
        "      s = s + \" \" + str(l1[i])\n",
        "for j in range (len(l2)):\n",
        "   if l2[j] %2 != 0:\n",
        "     s = s + \" \"+ str(l2[j])\n",
        "print(s)"
      ],
      "metadata": {
        "colab": {
          "base_uri": "https://localhost:8080/"
        },
        "id": "yqxDXUXPUHUH",
        "outputId": "7e4dbbb6-4b31-4d7d-d40f-accc1f5ec544"
      },
      "execution_count": null,
      "outputs": [
        {
          "output_type": "stream",
          "name": "stdout",
          "text": [
            " 2 4 6 1 3 5\n"
          ]
        }
      ]
    },
    {
      "cell_type": "code",
      "source": [
        "x= input()\n",
        "s = 0\n",
        "count = 0\n",
        "for i in range(len(x)):\n",
        "    if x[i]== x.upper():\n",
        "        count = count + 1\n",
        "    else:\n",
        "        s = s + 1\n",
        "# print(s)\n",
        "if (s >= count):\n",
        "    print(x.lower())\n",
        "else:\n",
        "    print(x.upper())"
      ],
      "metadata": {
        "id": "j2sErKQ3IHkN"
      },
      "execution_count": null,
      "outputs": []
    }
  ]
}